# Ubuntu Principles: Community, Respect, Sharing, Practicality
# This notebook loads, analyzes, and visualizes data for insights

# Task 1: Load and Explore Dataset


import pandas as pd
import matplotlib.pyplot as plt
import seaborn as sns

# Optional: make plots look better
sns.set(style="whitegrid")

print("Welcome to the Data Analysis Notebook")

# --- Load dataset ---
try:
    # Example: Iris dataset from seaborn
    df = sns.load_dataset("iris")
    print("✓ Dataset loaded successfully!\n")
except FileNotFoundError:
    print("✗ Error: File not found. Please check your dataset path.")
except Exception as e:
    print(f"✗ An error occurred: {e}")

# --- Inspect dataset ---
print("First 5 rows of dataset:")
display(df.head())

print("\nDataset Info:")
print(df.info())

print("\nCheck for missing values:")
print(df.isnull().sum())

# --- Clean dataset (if missing values exist) ---
df = df.dropna()  # Alternatively: df.fillna(method="ffill", inplace=True)

print("\nAfter cleaning, missing values:")
print(df.isnull().sum())


# Task 2: Basic Data Analysis


print("\nBasic Statistics:")
display(df.describe())

# Example: Group by species and calculate mean petal length
grouped = df.groupby("species")["petal_length"].mean()
print("\nAverage petal length per species:")
print(grouped)

# Observations
print("\nObservations:")
print("- Versicolor tends to have intermediate petal length between Setosa and Virginica.")
print("- Virginica has the largest petals overall.")
print("- Data shows clear separation that could help in classification tasks.")


# Task 3: Data Visualization


# 1. Line Chart (example using index for trends)
plt.figure(figsize=(8,5))
plt.plot(df.index, df["sepal_length"], label="Sepal Length", color="blue")
plt.title("Sepal Length Trend Across Samples")
plt.xlabel("Sample Index")
plt.ylabel("Sepal Length (cm)")
plt.legend()
plt.show()

# 2. Bar Chart
plt.figure(figsize=(8,5))
grouped.plot(kind="bar", color=["skyblue","salmon","lightgreen"])
plt.title("Average Petal Length by Species")
plt.xlabel("Species")
plt.ylabel("Average Petal Length (cm)")
plt.show()

# 3. Histogram
plt.figure(figsize=(8,5))
plt.hist(df["sepal_width"], bins=20, color="orange", edgecolor="black")
plt.title("Distribution of Sepal Width")
plt.xlabel("Sepal Width (cm)")
plt.ylabel("Frequency")
plt.show()

# 4. Scatter Plot
plt.figure(figsize=(8,5))
plt.scatter(df["sepal_length"], df["petal_length"], alpha=0.7, c=df["sepal_width"], cmap="viridis")
plt.title("Sepal Length vs Petal Length")
plt.xlabel("Sepal Length (cm)")
plt.ylabel("Petal Length (cm)")
plt.colorbar(label="Sepal Width")
plt.show()

print("\nNotebook complete! All tasks executed successfully.")
